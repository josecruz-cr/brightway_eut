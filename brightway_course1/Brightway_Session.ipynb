{
 "cells": [
  {
   "cell_type": "markdown",
   "metadata": {},
   "source": [
    "# Brightway Introductory Session\n",
    "\n",
    "Welcome! In this session, we will learn the fundamentals of performing a Life Cycle Assessment (LCA) using the Brightway2 framework."
   ]
  },
  {
   "cell_type": "markdown",
   "metadata": {},
   "source": [
    "## Part 1: Setup and Finding an Activity\n",
    "\n",
    "First, we import the `brightway2` library. Then, we connect to the project and database we created during the pre-work setup."
   ]
  },
  {
   "cell_type": "code",
   "execution_count": null,
   "metadata": {},
   "outputs": [],
   "source": [
    "import brightway2 as bw\n",
    "\n",
    "# Connect to the project we created with the import script\n",
    "bw.projects.set_current('bw-course-project')\n",
    "\n",
    "# Get a reference to our imported Ecoinvent database\n",
    "db = bw.Database('ecoinvent-3.11-cutoff')"
   ]
  },
  {
   "cell_type": "markdown",
   "metadata": {},
   "source": [
    "Let's search for the `'water pump operation, electric'` process located in Spain (`ES`)."
   ]
  },
  {
   "cell_type": "code",
   "execution_count": null,
   "metadata": {},
   "outputs": [],
   "source": [
    "# Search for activities containing 'water pump operation, electric'\n",
    "search_results = db.search('water pump operation, electric')\n",
    "\n",
    "# We want the specific one for Spain ('ES')\n",
    "water_pump_es = None\n",
    "for activity in search_results:\n",
    "    if activity['location'] == 'ES':\n",
    "        water_pump_es = activity\n",
    "        break\n",
    "\n",
    "water_pump_es"
   ]
  },
  {
   "cell_type": "markdown",
   "metadata": {},
   "source": [
    "## Part 2: Performing a Simple LCA\n",
    "\n",
    "To run an LCA, we need an **activity**, a **functional unit**, and an **impact method**."
   ]
  },
  {
   "cell_type": "code",
   "execution_count": null,
   "metadata": {},
   "outputs": [],
   "source": [
    "# Define the functional unit: 1 unit of our water pump activity\n",
    "functional_unit = {water_pump_es: 1}\n",
    "\n",
    "# Let's choose an impact method. We'll use the IPCC 2021 method for Global Warming Potential (GWP100).\n",
    "# First, find the method tuple by searching for it.\n",
    "method_key = None\n",
    "for method in bw.methods:\n",
    "    if 'IPCC 2021' in str(method) and 'GWP 100a' in str(method):\n",
    "        method_key = method\n",
    "        break\n",
    "\n",
    "method_key"
   ]
  },
  {
   "cell_type": "code",
   "execution_count": null,
   "metadata": {},
   "outputs": [],
   "source": [
    "# Create the LCA object\n",
    "lca = bw.LCA(functional_unit, method_key)\n",
    "\n",
    "# Build the Life Cycle Inventory (LCI)\n",
    "lca.lci()\n",
    "\n",
    "# Run the Life Cycle Impact Assessment (LCIA)\n",
    "lca.lcia()\n",
    "\n",
    "# Print the score\n",
    "print(f\"LCA Score for '{water_pump_es['name']}' in {water_pump_es['location']}:\")\n",
    "print(f\"{lca.score:.4f} {bw.methods.get(method_key).get('unit')}\")"
   ]
  },
  {
   "cell_type": "markdown",
   "metadata": {},
   "source": [
    "## Part 3: Exploring a Unit Process (Technosphere)\n",
    "\n",
    "What are the direct inputs to our process? We can inspect its `technosphere` exchanges."
   ]
  },
  {
   "cell_type": "code",
   "execution_count": null,
   "metadata": {},
   "outputs": [],
   "source": [
    "print(f\"Inputs for '{water_pump_es['name']}':\")\n",
    "for exchange in water_pump_es.technosphere():\n",
    "    # .input gives the activity that is providing the input\n",
    "    # .amount is how much of that input is used\n",
    "    print(f\"- Input: {exchange.input['name']}\")\n",
    "    print(f\"  Amount: {exchange.amount:.4f} {exchange.input['unit']}\")\n",
    "    print(f\"  Location: {exchange.input['location']}\")\n",
    "    print(\"-\" * 20)"
   ]
  },
  {
   "cell_type": "markdown",
   "metadata": {},
   "source": [
    "## BONUS: Creating a New Process by Changing Geographies\n",
    "\n",
    "Let's create a new 'water pump' process, but this time, we'll imagine it's running in France (`FR`). We need to copy the original process and swap its electricity input from the Spanish market to the French market."
   ]
  },
  {
   "cell_type": "code",
   "execution_count": null,
   "metadata": {},
   "outputs": [],
   "source": [
    "# First, find the French low voltage electricity market\n",
    "electricity_fr = db.get('market for electricity, low voltage', location='FR')\n",
    "\n",
    "# Create a copy of our Spanish process\n",
    "# We need a new, unique code for our new activity. We can make one up.\n",
    "new_code = 'water-pump-fr-electricity'\n",
    "water_pump_fr = water_pump_es.copy(code=new_code)\n",
    "\n",
    "# Change its name to avoid confusion\n",
    "water_pump_fr['name'] = 'water pump operation, electric, FR electricity'\n",
    "water_pump_fr.save()"
   ]
  },
  {
   "cell_type": "markdown",
   "metadata": {},
   "source": [
    "Now we find the electricity exchange in our new copied process and change its `input` to be the French electricity we found."
   ]
  },
  {
   "cell_type": "code",
   "execution_count": null,
   "metadata": {},
   "outputs": [],
   "source": [
    "# Iterate through the exchanges of our NEW French pump process\n",
    "for exchange in water_pump_fr.technosphere():\n",
    "    # Find the electricity input\n",
    "    if 'electricity, low voltage' in exchange.input['name']:\n",
    "        # Change the input of this exchange to the French electricity market\n",
    "        exchange['input'] = electricity_fr\n",
    "        # Save the change\n",
    "        exchange.save()\n",
    "        print(\"Electricity input swapped to FR market!\")"
   ]
  },
  {
   "cell_type": "markdown",
   "metadata": {},
   "source": [
    "Finally, let's run the LCA on our new process and compare the scores!"
   ]
  },
  {
   "cell_type": "code",
   "execution_count": null,
   "metadata": {},
   "outputs": [],
   "source": [
    "# Run the LCA for the new French-powered pump\n",
    "lca_fr = bw.LCA({water_pump_fr: 1}, method_key)\n",
    "lca_fr.lci()\n",
    "lca_fr.lcia()\n",
    "\n",
    "print(\"--- Comparative LCA Results ---\")\n",
    "print(f\"Original (ES electricity): {lca.score:.4f} kg CO2-eq\")\n",
    "print(f\"Modified (FR electricity): {lca_fr.score:.4f} kg CO2-eq\")"
   ]
  }
 ],
 "metadata": {
  "kernelspec": {
   "display_name": "Python 3 (ipykernel)",
   "language": "python",
   "name": "python3"
  },
  "language_info": {
   "codemirror_mode": {
    "name": "ipython",
    "version": 3
   },
   "file_extension": ".py",
   "mimetype": "text/x-python",
   "name": "python",
   "nbconvert_exporter": "python",
   "pygments_lexer": "ipython3",
   "version": "3.10.9"
  }
 },
 "nbformat": 4,
 "nbformat_minor": 4
}