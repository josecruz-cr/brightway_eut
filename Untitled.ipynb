{
 "cells": [
  {
   "cell_type": "code",
   "execution_count": 1,
   "id": "e64b1d97-f853-44ee-97ec-4d084f9913b4",
   "metadata": {},
   "outputs": [
    {
     "name": "stdout",
     "output_type": "stream",
     "text": [
      "Available databases: ['biosphere3', 'ecoinvent-3.11-cutoff']\n"
     ]
    }
   ],
   "source": [
    "from brightway2 import *\n",
    "\n",
    "# Use the project name you set in the script\n",
    "projects.set_current(\"bw-course-project\")\n",
    "\n",
    "print(\"Available databases:\", list(databases))\n"
   ]
  },
  {
   "cell_type": "code",
   "execution_count": 2,
   "id": "733a7966-125e-4bfe-82e2-7fd57262f0f8",
   "metadata": {},
   "outputs": [
    {
     "name": "stdout",
     "output_type": "stream",
     "text": [
      "Number of activities: 0\n"
     ]
    },
    {
     "name": "stderr",
     "output_type": "stream",
     "text": [
      "C:\\Users\\josedaniel.cruz\\AppData\\Local\\miniconda3\\envs\\bw-course\\lib\\site-packages\\bw2data\\backends\\peewee\\database.py:127: UserWarning: This database is empty\n",
      "  warnings.warn(\"This database is empty\")\n"
     ]
    },
    {
     "ename": "TypeError",
     "evalue": "'NoneType' object is not subscriptable",
     "output_type": "error",
     "traceback": [
      "\u001b[1;31m---------------------------------------------------------------------------\u001b[0m",
      "\u001b[1;31mTypeError\u001b[0m                                 Traceback (most recent call last)",
      "Cell \u001b[1;32mIn[2], line 5\u001b[0m\n\u001b[0;32m      2\u001b[0m \u001b[38;5;28mprint\u001b[39m(\u001b[38;5;124m\"\u001b[39m\u001b[38;5;124mNumber of activities:\u001b[39m\u001b[38;5;124m\"\u001b[39m, \u001b[38;5;28mlen\u001b[39m(db))\n\u001b[0;32m      4\u001b[0m act \u001b[38;5;241m=\u001b[39m db\u001b[38;5;241m.\u001b[39mrandom()\n\u001b[1;32m----> 5\u001b[0m \u001b[38;5;28mprint\u001b[39m(\u001b[38;5;124m\"\u001b[39m\u001b[38;5;124mRandom activity:\u001b[39m\u001b[38;5;124m\"\u001b[39m, \u001b[43mact\u001b[49m\u001b[43m[\u001b[49m\u001b[38;5;124;43m'\u001b[39;49m\u001b[38;5;124;43mname\u001b[39;49m\u001b[38;5;124;43m'\u001b[39;49m\u001b[43m]\u001b[49m, \u001b[38;5;124m\"\u001b[39m\u001b[38;5;124m-\u001b[39m\u001b[38;5;124m\"\u001b[39m, act[\u001b[38;5;124m'\u001b[39m\u001b[38;5;124mlocation\u001b[39m\u001b[38;5;124m'\u001b[39m])\n",
      "\u001b[1;31mTypeError\u001b[0m: 'NoneType' object is not subscriptable"
     ]
    }
   ],
   "source": [
    "db = Database(\"ecoinvent-3.11-cutoff\")\n",
    "print(\"Number of activities:\", len(db))\n",
    "\n",
    "act = db.random()\n",
    "print(\"Random activity:\", act['name'], \"-\", act['location'])\n"
   ]
  },
  {
   "cell_type": "code",
   "execution_count": 3,
   "id": "36297b79-bab9-4ee8-9ffa-a1181b750730",
   "metadata": {},
   "outputs": [
    {
     "name": "stdout",
     "output_type": "stream",
     "text": [
      "Deleted empty ecoinvent database.\n"
     ]
    }
   ],
   "source": [
    "from brightway2 import *\n",
    "\n",
    "projects.set_current(\"bw-course-project\")\n",
    "\n",
    "if \"ecoinvent-3.11-cutoff\" in databases:\n",
    "    del databases[\"ecoinvent-3.11-cutoff\"]\n",
    "    print(\"Deleted empty ecoinvent database.\")\n"
   ]
  },
  {
   "cell_type": "code",
   "execution_count": null,
   "id": "551b7f8b-540a-4913-81e5-76638e2ddc43",
   "metadata": {},
   "outputs": [],
   "source": []
  }
 ],
 "metadata": {
  "kernelspec": {
   "display_name": "Python 3 (ipykernel)",
   "language": "python",
   "name": "python3"
  },
  "language_info": {
   "codemirror_mode": {
    "name": "ipython",
    "version": 3
   },
   "file_extension": ".py",
   "mimetype": "text/x-python",
   "name": "python",
   "nbconvert_exporter": "python",
   "pygments_lexer": "ipython3",
   "version": "3.10.18"
  }
 },
 "nbformat": 4,
 "nbformat_minor": 5
}
