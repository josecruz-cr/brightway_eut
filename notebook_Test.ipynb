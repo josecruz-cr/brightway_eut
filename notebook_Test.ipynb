{
 "cells": [
  {
   "cell_type": "markdown",
   "metadata": {},
   "source": [
    "# Brightway2 Installation Test ✅\n",
    "\n",
    "This notebook provides a simple, step-by-step test to verify that your Brightway2 installation and the Ecoinvent database are set up correctly. \n",
    "\n",
    "Run each cell in order to confirm your setup is ready for Life Cycle Assessment (LCA) calculations."
   ]
  },
  {
   "cell_type": "markdown",
   "metadata": {},
   "source": [
    "## Step 1: Check if Databases Exist\n",
    "\n",
    "First, we'll confirm that Brightway can see your project and that the required databases, `biosphere3` and your Ecoinvent version, are listed."
   ]
  },
  {
   "cell_type": "code",
   "execution_count": 1,
   "metadata": {},
   "outputs": [],
   "source": [
    "from brightway2 import *\n",
    "\n",
    "# Set the project to the one you used during installation\n",
    "projects.set_current(\"bw-course-project\")\n",
    "\n",
    "print(\"Available databases:\", list(databases))"
   ]
  },
  {
   "cell_type": "markdown",
   "metadata": {},
   "source": [
    "👉 **Expected Output:**\n",
    "You should see at least `['biosphere3', 'ecoinvent-3.9.1-cutoff']` in the list. If `ecoinvent-3.9.1-cutoff` appears, the import process was successful."
   ]
  },
  {
   "cell_type": "markdown",
   "metadata": {},
   "source": [
    "## Step 2: Inspect the Ecoinvent Database\n",
    "\n",
    "Next, we'll check if the Ecoinvent database is not just listed, but actually contains data. We do this by checking the total number of activities and retrieving a random one."
   ]
  },
  {
   "cell_type": "code",
   "execution_count": null,
   "metadata": {},
   "outputs": [],
   "source": [
    "db = Database(\"ecoinvent-3.9.1-cutoff\")\n",
    "\n",
    "print(\"Number of activities:\", len(db))\n",
    "\n",
    "act = db.random()\n",
    "print(\"Random activity:\", act['name'], \"-\", act['location'])"
   ]
  },
  {
   "cell_type": "markdown",
   "metadata": {},
   "source": [
    "👉 **Expected Output:**\n",
    "For the Ecoinvent 3.9.1 cutoff database, you should see a number of activities between **20,000 and 25,000**. You should also see the name and location of a randomly selected activity. This confirms that Brightway can access the Ecoinvent data."
   ]
  },
  {
   "cell_type": "markdown",
   "metadata": {},
   "source": [
    "## Step 3: Run a Minimal LCA\n",
    "\n",
    "This is the final and most important test. We will perform a simple Life Cycle Assessment on a known activity to calculate its climate change impact. This ensures that the entire calculation engine is functional."
   ]
  },
  {
   "cell_type": "code",
   "execution_count": null,
   "metadata": {},
   "outputs": [],
   "source": [
    "# Example: Swiss market for electricity, medium voltage\n",
    "db = Database(\"ecoinvent-3.9.1-cutoff\")\n",
    "act = db.search(\"electricity, medium voltage\", filter={\"location\": \"CH\"})[0]\n",
    "print(\"Chosen activity:\", act['name'], \"-\", act['location'])\n",
    "\n",
    "# Define the Life Cycle Impact Assessment (LCIA) method\n",
    "method = ('IPCC 2013', 'climate change', 'GWP 100a')\n",
    "\n",
    "# Initialize and run the LCA for 1 unit of the activity\n",
    "lca = LCA({act: 1}, method)\n",
    "lca.lci()\n",
    "lca.lcia()\n",
    "\n",
    "print(f\"GWP 100a impact of 1 unit: {lca.score:.4f} kg CO2-eq\")"
   ]
  },
  {
   "cell_type": "markdown",
   "metadata": {},
   "source": [
    "👉 **Expected Output:**\n",
    "You should get a numeric result for the climate change impact (e.g., a value around 0.1–0.5 kg CO₂-eq for this specific electricity mix). If you see this, your Ecoinvent database is fully installed and functional."
   ]
  },
  {
   "cell_type": "markdown",
   "metadata": {},
   "source": [
    "## 🔎 Summary of a Successful Test\n",
    "\n",
    "If you completed all the steps without errors, your installation is good to go! 🚀\n",
    "\n",
    "1.  The Ecoinvent database appears in `list(databases)`.\n",
    "2.  The database loads with thousands of activities.\n",
    "3.  An LCIA result can be calculated.\n",
    "\n",
    "If all three are true, your Brightway environment is ready."
   ]
  }
 ],
 "metadata": {
  "kernelspec": {
   "display_name": "Python 3 (ipykernel)",
   "language": "python",
   "name": "python3"
  },
  "language_info": {
   "codemirror_mode": {
    "name": "ipython",
    "version": 3
   },
   "file_extension": ".py",
   "mimetype": "text/x-python",
   "name": "python",
   "nbconvert_exporter": "python",
   "pygments_lexer": "ipython3",
   "version": "3.10.18"
  }
 },
 "nbformat": 4,
 "nbformat_minor": 4
}
