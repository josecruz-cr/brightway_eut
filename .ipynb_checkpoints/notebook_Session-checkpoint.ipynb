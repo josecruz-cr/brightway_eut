{
 "cells": [
  {
   "cell_type": "markdown",
   "metadata": {},
   "source": [
    "# Brightway Introductory Session\n",
    "\n",
    "Welcome! In this session, we will learn the fundamentals of performing a Life Cycle Assessment (LCA) using the Brightway2 framework."
   ]
  },
  {
   "cell_type": "markdown",
   "metadata": {},
   "source": [
    "## Part 1: Setup and Finding an Activity\n",
    "\n",
    "First, we import the `brightway2` library. Then, we connect to the project and database we created during the pre-work setup."
   ]
  },
  {
   "cell_type": "code",
   "execution_count": null,
   "metadata": {},
   "outputs": [],
   "source": [
    "import brightway2 as bw\n",
    "\n",
    "# Connect to the project we created with the import script\n",
    "bw.projects.set_current('bw-course-project')\n",
    "\n",
    "# Get a reference to our imported Ecoinvent database (3.9.1 cutoff)\n",
    "db = bw.Database('ecoinvent-3.9.1-cutoff')"
   ]
  },
  {
   "cell_type": "markdown",
   "metadata": {},
   "source": [
    "Let's search for the `'water pump operation, electric'` process located in Spain (`ES`)."
   ]
  },
  {
   "cell_type": "code",
   "execution_count": null,
   "metadata": {},
   "outputs": [],
   "source": [
    "# Search for activities containing 'water pump operation, electric'\n",
    "search_results = db.search('water pump operation, electric')\n",
    "\n",
    "# We want the specific one for Spain ('ES')\n",
    "water_pump_es = None\n",
    "for activity in search_results:\n",
    "    if activity['location'] == 'ES':\n",
    "        water_pump_es = activity\n",
    "        break\n",
    "\n",
    "water_pump_es"
   ]
  },
  {
   "cell_type": "markdown",
   "metadata": {},
   "source": [
    "## Part 2: Performing a Simple LCA\n",
    "\n",
    "To run an LCA, we need an **activity**, a **functional unit**, and an **impact method**."
   ]
  },
  {
   "cell_type": "code",
   "execution_count": null,
   "metadata": {},
   "outputs": [],
   "source": [
    "# Define the functional unit: 1 unit of our water pump activity\n",
    "functional_unit = {water_pump_es: 1}\n",
    "\n",
    "# Use IPCC 2013 GWP 100a, which is guaranteed to exist in BW2 + Ecoinvent 3.9.1\n",
    "method_key = ('IPCC 2013', 'climate change', 'GWP 100a')\n",
    "\n",
    "# Create the LCA object\n",
    "lca = bw.LCA(functional_unit, method_key)\n",
    "\n",
    "# Build the Life Cycle Inventory (LCI)\n",
    "lca.lci()\n",
    "\n",
    "# Run the Life Cycle Impact Assessment (LCIA)\n",
    "lca.lcia()\n",
    "\n",
    "# Print the score\n",
    "print(f\"LCA Score for '{water_pump_es['name']}' in {water_pump_es['location']}: {lca.score:.4f} kg CO2-eq\")"
   ]
  },
  {
   "cell_type": "markdown",
   "metadata": {},
   "source": [
    "## Part 3: Exploring a Unit Process (Technosphere)\n",
    "\n",
    "What are the direct inputs to our process? We can inspect its `technosphere` exchanges."
   ]
  },
  {
   "cell_type": "code",
   "execution_count": null,
   "metadata": {},
   "outputs": [],
   "source": [
    "print(f\"Inputs for '{water_pump_es['name']}':\")\n",
    "for exchange in water_pump_es.technosphere():\n",
    "    print(f\"- Input: {exchange.input['name']}\")\n",
    "    print(f\"  Amount: {exchange.amount:.4f} {exchange.input['unit']}\")\n",
    "    print(f\"  Location: {exchange.input['location']}\")\n",
    "    print(\"-\" * 20)"
   ]
  },
  {
   "cell_type": "markdown",
   "metadata": {},
   "source": [
    "## BONUS: Creating a New Process by Changing Geographies\n",
    "\n",
    "Let's create a new 'water pump' process, but this time, we'll imagine it's running in France (`FR`). We need to copy the original process and swap its electricity input from the Spanish market to the French market."
   ]
  },
  {
   "cell_type": "code",
   "execution_count": null,
   "metadata": {},
   "outputs": [],
   "source": [
    "# First, find the French low voltage electricity market\n",
    "electricity_fr = db.get('market for electricity, low voltage', location='FR')\n",
    "\n",
    "# Create a copy of our Spanish process\n",
    "new_code = 'water-pump-fr-electricity'\n",
    "water_pump_fr = water_pump_es.copy(code=new_code)\n",
    "water_pump_fr['name'] = 'water pump operation, electric, FR electricity'\n",
    "water_pump_fr.save()\n",
    "\n",
    "# Swap electricity input\n",
    "for exchange in water_pump_fr.technosphere():\n",
    "    if 'electricity, low voltage' in exchange.input['name']:\n",
    "        exchange['input'] = electricity_fr\n",
    "        exchange.save()\n",
    "        print(\"Electricity input swapped to FR market!\")"
   ]
  },
  {
   "cell_type": "code",
   "execution_count": null,
   "metadata": {},
   "outputs": [],
   "source": [
    "# Run the LCA for the new French-powered pump\n",
    "lca_fr = bw.LCA({water_pump_fr: 1}, method_key)\n",
    "lca_fr.lci()\n",
    "lca_fr.lcia()\n",
    "\n",
    "print(\"--- Comparative LCA Results ---\")\n",
    "print(f\"Original (ES electricity): {lca.score:.4f} kg CO2-eq\")\n",
    "print(f\"Modified (FR electricity): {lca_fr.score:.4f} kg CO2-eq\")"
   ]
  },
  {
   "cell_type": "markdown",
   "metadata": {},
   "source": [
    "# 🎯 Playground: Activities & LCIA Methods\n",
    "\n",
    "In this playground, you'll learn how to inspect Brightway activities and LCIA methods interactively."
   ]
  },
  {
   "cell_type": "markdown",
   "metadata": {},
   "source": [
    "## Part 1: Explore Activity Attributes\n",
    "\n",
    "We'll pick a random activity from the database, see all its attributes, and then retrieve specific attributes."
   ]
  },
  {
   "cell_type": "code",
   "execution_count": null,
   "metadata": {},
   "outputs": [],
   "source": [
    "# Pick a random activity\n",
    "activity = db.random()\n",
    "\n",
    "# 1a. List all available attributes\n",
    "print(\"All attributes of this activity:\")\n",
    "for key in activity.as_dict().keys():\n",
    "    print(\"-\", key)\n",
    "\n",
    "# 1b. Retrieve some specific attributes\n",
    "print(\"\\nSpecific attributes:\")\n",
    "print(\"Name:\", activity['name'])\n",
    "print(\"Location:\", activity['location'])\n",
    "print(\"Unit:\", activity['unit'])"
   ]
  },
  {
   "cell_type": "markdown",
   "metadata": {},
   "source": [
    "## Part 2: Explore LCIA Methods\n",
    "\n",
    "We'll list all methods available in the project, then check if a specific method (e.g., IPCC GWP) exists."
   ]
  },
  {
   "cell_type": "code",
   "execution_count": null,
   "metadata": {},
   "outputs": [],
   "source": [
    "# List all LCIA methods in the project\n",
    "print(\"Available LCIA methods:\")\n",
    "for method in bw.methods:\n",
    "    print(\"-\", method)\n",
    "\n",
    "# Check for a specific IPCC GWP method\n",
    "ipcc_method = None\n",
    "for method in bw.methods:\n",
    "    if 'IPCC 2013' in method[0] and 'GWP 100a' in method[2]:\n",
    "        ipcc_method = method\n",
    "        break\n",
    "\n",
    "if ipcc_method:\n",
    "    print(f\"\\n✅ Found IPCC GWP method: {ipcc_method}\")\n",
    "else:\n",
    "    print(\"\\n⚠️ IPCC GWP method not found in this project\")"
   ]
  }
 ],
 "metadata": {
  "kernelspec": {
   "display_name": "Python 3 (ipykernel)",
   "language": "python",
   "name": "python3"
  },
  "language_info": {
   "codemirror_mode": {
    "name": "ipython",
    "version": 3
   },
   "file_extension": ".py",
   "mimetype": "text/x-python",
   "name": "python",
   "nbconvert_exporter": "python",
   "pygments_lexer": "ipython3",
   "version": "3.10.18"
  }
 },
 "nbformat": 4,
 "nbformat_minor": 4
}
